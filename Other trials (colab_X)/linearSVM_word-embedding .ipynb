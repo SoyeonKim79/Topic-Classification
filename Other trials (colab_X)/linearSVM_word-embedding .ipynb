{
 "cells": [
  {
   "cell_type": "code",
   "execution_count": 1,
   "metadata": {},
   "outputs": [],
   "source": [
    "import pandas as pd\n",
    "from sklearn.model_selection import train_test_split, GridSearchCV, cross_val_score, cross_validate\n",
    "from sklearn.preprocessing import StandardScaler\n",
    "from sklearn.svm import LinearSVC\n",
    "from sklearn.metrics import precision_score, recall_score, f1_score, accuracy_score, confusion_matrix"
   ]
  },
  {
   "cell_type": "code",
   "execution_count": 2,
   "metadata": {},
   "outputs": [],
   "source": [
    "# using original train dataset\n",
    "train_df = pd.read_csv(\"wordEmbeddingTrain.csv\")\n",
    "test_df = pd.read_csv(\"wordEmbeddingTest.csv\")"
   ]
  },
  {
   "cell_type": "code",
   "execution_count": 3,
   "metadata": {
    "scrolled": true
   },
   "outputs": [
    {
     "name": "stdout",
     "output_type": "stream",
     "text": [
      "Shape of the train dataset: (29635, 102)\n"
     ]
    },
    {
     "data": {
      "text/html": [
       "<div>\n",
       "<style scoped>\n",
       "    .dataframe tbody tr th:only-of-type {\n",
       "        vertical-align: middle;\n",
       "    }\n",
       "\n",
       "    .dataframe tbody tr th {\n",
       "        vertical-align: top;\n",
       "    }\n",
       "\n",
       "    .dataframe thead th {\n",
       "        text-align: right;\n",
       "    }\n",
       "</style>\n",
       "<table border=\"1\" class=\"dataframe\">\n",
       "  <thead>\n",
       "    <tr style=\"text-align: right;\">\n",
       "      <th></th>\n",
       "      <th>0</th>\n",
       "      <th>1</th>\n",
       "      <th>2</th>\n",
       "      <th>3</th>\n",
       "      <th>4</th>\n",
       "      <th>5</th>\n",
       "      <th>6</th>\n",
       "      <th>7</th>\n",
       "      <th>8</th>\n",
       "      <th>9</th>\n",
       "      <th>...</th>\n",
       "      <th>91</th>\n",
       "      <th>92</th>\n",
       "      <th>93</th>\n",
       "      <th>94</th>\n",
       "      <th>95</th>\n",
       "      <th>96</th>\n",
       "      <th>97</th>\n",
       "      <th>98</th>\n",
       "      <th>99</th>\n",
       "      <th>labels</th>\n",
       "    </tr>\n",
       "  </thead>\n",
       "  <tbody>\n",
       "    <tr>\n",
       "      <th>0</th>\n",
       "      <td>-0.140486</td>\n",
       "      <td>-0.708271</td>\n",
       "      <td>-0.382102</td>\n",
       "      <td>-0.410084</td>\n",
       "      <td>-0.203693</td>\n",
       "      <td>0.105790</td>\n",
       "      <td>0.197683</td>\n",
       "      <td>0.158858</td>\n",
       "      <td>-0.004087</td>\n",
       "      <td>0.501946</td>\n",
       "      <td>...</td>\n",
       "      <td>-0.322100</td>\n",
       "      <td>-1.064298</td>\n",
       "      <td>-0.205313</td>\n",
       "      <td>-0.604041</td>\n",
       "      <td>0.209205</td>\n",
       "      <td>-0.325033</td>\n",
       "      <td>0.153971</td>\n",
       "      <td>0.497229</td>\n",
       "      <td>0.458049</td>\n",
       "      <td>cs</td>\n",
       "    </tr>\n",
       "    <tr>\n",
       "      <th>1</th>\n",
       "      <td>0.411015</td>\n",
       "      <td>-0.790592</td>\n",
       "      <td>-0.897963</td>\n",
       "      <td>-0.338375</td>\n",
       "      <td>-0.284312</td>\n",
       "      <td>0.302484</td>\n",
       "      <td>-0.070416</td>\n",
       "      <td>-0.069028</td>\n",
       "      <td>0.000056</td>\n",
       "      <td>0.582238</td>\n",
       "      <td>...</td>\n",
       "      <td>-0.146003</td>\n",
       "      <td>-0.772914</td>\n",
       "      <td>0.038109</td>\n",
       "      <td>-0.847527</td>\n",
       "      <td>0.188956</td>\n",
       "      <td>-1.158004</td>\n",
       "      <td>0.093777</td>\n",
       "      <td>0.500449</td>\n",
       "      <td>0.182480</td>\n",
       "      <td>math.DS</td>\n",
       "    </tr>\n",
       "    <tr>\n",
       "      <th>2</th>\n",
       "      <td>-0.274633</td>\n",
       "      <td>-1.035805</td>\n",
       "      <td>-0.625783</td>\n",
       "      <td>-0.478151</td>\n",
       "      <td>0.262160</td>\n",
       "      <td>0.351610</td>\n",
       "      <td>0.210195</td>\n",
       "      <td>0.236449</td>\n",
       "      <td>0.049997</td>\n",
       "      <td>0.170583</td>\n",
       "      <td>...</td>\n",
       "      <td>0.507972</td>\n",
       "      <td>-1.007552</td>\n",
       "      <td>-0.483059</td>\n",
       "      <td>-0.487506</td>\n",
       "      <td>0.429888</td>\n",
       "      <td>-0.885947</td>\n",
       "      <td>-0.069881</td>\n",
       "      <td>0.263815</td>\n",
       "      <td>0.319821</td>\n",
       "      <td>cs</td>\n",
       "    </tr>\n",
       "    <tr>\n",
       "      <th>3</th>\n",
       "      <td>-0.005348</td>\n",
       "      <td>-0.107721</td>\n",
       "      <td>0.211413</td>\n",
       "      <td>0.022911</td>\n",
       "      <td>-0.310092</td>\n",
       "      <td>0.690397</td>\n",
       "      <td>-0.191305</td>\n",
       "      <td>-0.050948</td>\n",
       "      <td>0.295349</td>\n",
       "      <td>0.350828</td>\n",
       "      <td>...</td>\n",
       "      <td>0.594372</td>\n",
       "      <td>-0.179300</td>\n",
       "      <td>-0.217202</td>\n",
       "      <td>-0.343062</td>\n",
       "      <td>0.777707</td>\n",
       "      <td>0.067506</td>\n",
       "      <td>0.594999</td>\n",
       "      <td>0.238857</td>\n",
       "      <td>0.295559</td>\n",
       "      <td>cs</td>\n",
       "    </tr>\n",
       "    <tr>\n",
       "      <th>4</th>\n",
       "      <td>0.331930</td>\n",
       "      <td>-0.507421</td>\n",
       "      <td>-0.363805</td>\n",
       "      <td>-0.526135</td>\n",
       "      <td>0.168097</td>\n",
       "      <td>0.475303</td>\n",
       "      <td>-0.427657</td>\n",
       "      <td>0.082572</td>\n",
       "      <td>0.265829</td>\n",
       "      <td>0.375759</td>\n",
       "      <td>...</td>\n",
       "      <td>0.391183</td>\n",
       "      <td>-0.473992</td>\n",
       "      <td>-0.101979</td>\n",
       "      <td>-0.329689</td>\n",
       "      <td>-0.091322</td>\n",
       "      <td>-0.407838</td>\n",
       "      <td>-0.014392</td>\n",
       "      <td>0.398557</td>\n",
       "      <td>0.600941</td>\n",
       "      <td>cs</td>\n",
       "    </tr>\n",
       "  </tbody>\n",
       "</table>\n",
       "<p>5 rows × 101 columns</p>\n",
       "</div>"
      ],
      "text/plain": [
       "          0         1         2         3         4         5         6  \\\n",
       "0 -0.140486 -0.708271 -0.382102 -0.410084 -0.203693  0.105790  0.197683   \n",
       "1  0.411015 -0.790592 -0.897963 -0.338375 -0.284312  0.302484 -0.070416   \n",
       "2 -0.274633 -1.035805 -0.625783 -0.478151  0.262160  0.351610  0.210195   \n",
       "3 -0.005348 -0.107721  0.211413  0.022911 -0.310092  0.690397 -0.191305   \n",
       "4  0.331930 -0.507421 -0.363805 -0.526135  0.168097  0.475303 -0.427657   \n",
       "\n",
       "          7         8         9  ...        91        92        93        94  \\\n",
       "0  0.158858 -0.004087  0.501946  ... -0.322100 -1.064298 -0.205313 -0.604041   \n",
       "1 -0.069028  0.000056  0.582238  ... -0.146003 -0.772914  0.038109 -0.847527   \n",
       "2  0.236449  0.049997  0.170583  ...  0.507972 -1.007552 -0.483059 -0.487506   \n",
       "3 -0.050948  0.295349  0.350828  ...  0.594372 -0.179300 -0.217202 -0.343062   \n",
       "4  0.082572  0.265829  0.375759  ...  0.391183 -0.473992 -0.101979 -0.329689   \n",
       "\n",
       "         95        96        97        98        99   labels  \n",
       "0  0.209205 -0.325033  0.153971  0.497229  0.458049       cs  \n",
       "1  0.188956 -1.158004  0.093777  0.500449  0.182480  math.DS  \n",
       "2  0.429888 -0.885947 -0.069881  0.263815  0.319821       cs  \n",
       "3  0.777707  0.067506  0.594999  0.238857  0.295559       cs  \n",
       "4 -0.091322 -0.407838 -0.014392  0.398557  0.600941       cs  \n",
       "\n",
       "[5 rows x 101 columns]"
      ]
     },
     "execution_count": 3,
     "metadata": {},
     "output_type": "execute_result"
    }
   ],
   "source": [
    "print('Shape of the train dataset: ' + str(train_df.shape))\n",
    "del train_df['index']\n",
    "train_df.head()"
   ]
  },
  {
   "cell_type": "code",
   "execution_count": 4,
   "metadata": {},
   "outputs": [
    {
     "name": "stdout",
     "output_type": "stream",
     "text": [
      "100 \n",
      "\n",
      "0         0\n",
      "1         1\n",
      "2         0\n",
      "3         0\n",
      "4         0\n",
      "         ..\n",
      "29630     0\n",
      "29631    14\n",
      "29632     0\n",
      "29633     0\n",
      "29634    14\n",
      "Name: labels, Length: 29635, dtype: int64\n"
     ]
    }
   ],
   "source": [
    "#Creating the dependent variable class\n",
    "factor = pd.factorize(train_df['labels'])\n",
    "train_df.labels = factor[0]\n",
    "definitions = factor[1]\n",
    "\n",
    "print(len(definitions), '\\n')\n",
    "print(train_df.labels)"
   ]
  },
  {
   "cell_type": "code",
   "execution_count": 5,
   "metadata": {},
   "outputs": [],
   "source": [
    "#Splitting the data into independent and dependent variables\n",
    "\n",
    "X = train_df.iloc[:,0:100].values\n",
    "y = train_df.iloc[:,100].values"
   ]
  },
  {
   "cell_type": "code",
   "execution_count": 6,
   "metadata": {},
   "outputs": [],
   "source": [
    "# Creating the Training and Test set from data\n",
    "X_train, X_test, y_train, y_test = train_test_split(X, y, test_size = 0.20, random_state = 21)"
   ]
  },
  {
   "cell_type": "code",
   "execution_count": 7,
   "metadata": {},
   "outputs": [],
   "source": [
    "# Feature Scaling\n",
    "scaler = StandardScaler()\n",
    "X_train = scaler.fit_transform(X_train)\n",
    "X_test = scaler.transform(X_test)"
   ]
  },
  {
   "cell_type": "code",
   "execution_count": 8,
   "metadata": {},
   "outputs": [],
   "source": [
    "#linear SVC model\n",
    "# https://stackoverflow.com/questions/18165213/how-much-time-does-take-train-svm-classifier\n",
    "# to save computation time, we will use a linear svc model\n",
    "linear_model = LinearSVC()"
   ]
  },
  {
   "cell_type": "code",
   "execution_count": 9,
   "metadata": {},
   "outputs": [
    {
     "name": "stdout",
     "output_type": "stream",
     "text": [
      "Fitting 3 folds for each of 5 candidates, totalling 15 fits\n",
      "[CV] C=0.1 ...........................................................\n"
     ]
    },
    {
     "name": "stderr",
     "output_type": "stream",
     "text": [
      "[Parallel(n_jobs=1)]: Using backend SequentialBackend with 1 concurrent workers.\n"
     ]
    },
    {
     "name": "stdout",
     "output_type": "stream",
     "text": [
      "[CV] ............................... C=0.1, score=0.518, total=  24.9s\n",
      "[CV] C=0.1 ...........................................................\n"
     ]
    },
    {
     "name": "stderr",
     "output_type": "stream",
     "text": [
      "[Parallel(n_jobs=1)]: Done   1 out of   1 | elapsed:   24.8s remaining:    0.0s\n"
     ]
    },
    {
     "name": "stdout",
     "output_type": "stream",
     "text": [
      "[CV] ............................... C=0.1, score=0.514, total=  25.1s\n",
      "[CV] C=0.1 ...........................................................\n"
     ]
    },
    {
     "name": "stderr",
     "output_type": "stream",
     "text": [
      "[Parallel(n_jobs=1)]: Done   2 out of   2 | elapsed:   49.9s remaining:    0.0s\n"
     ]
    },
    {
     "name": "stdout",
     "output_type": "stream",
     "text": [
      "[CV] ............................... C=0.1, score=0.526, total=  24.1s\n",
      "[CV] C=0.2 ...........................................................\n"
     ]
    },
    {
     "name": "stderr",
     "output_type": "stream",
     "text": [
      "[Parallel(n_jobs=1)]: Done   3 out of   3 | elapsed:  1.2min remaining:    0.0s\n"
     ]
    },
    {
     "name": "stdout",
     "output_type": "stream",
     "text": [
      "[CV] ............................... C=0.2, score=0.518, total=  24.3s\n",
      "[CV] C=0.2 ...........................................................\n"
     ]
    },
    {
     "name": "stderr",
     "output_type": "stream",
     "text": [
      "[Parallel(n_jobs=1)]: Done   4 out of   4 | elapsed:  1.6min remaining:    0.0s\n"
     ]
    },
    {
     "name": "stdout",
     "output_type": "stream",
     "text": [
      "[CV] ............................... C=0.2, score=0.513, total=  25.2s\n",
      "[CV] C=0.2 ...........................................................\n"
     ]
    },
    {
     "name": "stderr",
     "output_type": "stream",
     "text": [
      "[Parallel(n_jobs=1)]: Done   5 out of   5 | elapsed:  2.1min remaining:    0.0s\n"
     ]
    },
    {
     "name": "stdout",
     "output_type": "stream",
     "text": [
      "[CV] ............................... C=0.2, score=0.525, total=  24.1s\n",
      "[CV] C=0.3 ...........................................................\n"
     ]
    },
    {
     "name": "stderr",
     "output_type": "stream",
     "text": [
      "[Parallel(n_jobs=1)]: Done   6 out of   6 | elapsed:  2.5min remaining:    0.0s\n"
     ]
    },
    {
     "name": "stdout",
     "output_type": "stream",
     "text": [
      "[CV] ............................... C=0.3, score=0.517, total=  24.4s\n",
      "[CV] C=0.3 ...........................................................\n"
     ]
    },
    {
     "name": "stderr",
     "output_type": "stream",
     "text": [
      "[Parallel(n_jobs=1)]: Done   7 out of   7 | elapsed:  2.9min remaining:    0.0s\n"
     ]
    },
    {
     "name": "stdout",
     "output_type": "stream",
     "text": [
      "[CV] ............................... C=0.3, score=0.511, total=  25.7s\n",
      "[CV] C=0.3 ...........................................................\n"
     ]
    },
    {
     "name": "stderr",
     "output_type": "stream",
     "text": [
      "[Parallel(n_jobs=1)]: Done   8 out of   8 | elapsed:  3.3min remaining:    0.0s\n"
     ]
    },
    {
     "name": "stdout",
     "output_type": "stream",
     "text": [
      "[CV] ............................... C=0.3, score=0.524, total=  31.9s\n",
      "[CV] C=0.4 ...........................................................\n"
     ]
    },
    {
     "name": "stderr",
     "output_type": "stream",
     "text": [
      "[Parallel(n_jobs=1)]: Done   9 out of   9 | elapsed:  3.8min remaining:    0.0s\n"
     ]
    },
    {
     "name": "stdout",
     "output_type": "stream",
     "text": [
      "[CV] ............................... C=0.4, score=0.516, total=  24.7s\n",
      "[CV] C=0.4 ...........................................................\n",
      "[CV] ............................... C=0.4, score=0.511, total=  25.4s\n",
      "[CV] C=0.4 ...........................................................\n",
      "[CV] ............................... C=0.4, score=0.523, total=  24.2s\n",
      "[CV] C=0.5 ...........................................................\n",
      "[CV] ............................... C=0.5, score=0.515, total=  24.5s\n",
      "[CV] C=0.5 ...........................................................\n",
      "[CV] ............................... C=0.5, score=0.509, total=  25.1s\n",
      "[CV] C=0.5 ...........................................................\n",
      "[CV] ............................... C=0.5, score=0.522, total=  24.2s\n"
     ]
    },
    {
     "name": "stderr",
     "output_type": "stream",
     "text": [
      "[Parallel(n_jobs=1)]: Done  15 out of  15 | elapsed:  6.3min finished\n"
     ]
    },
    {
     "name": "stdout",
     "output_type": "stream",
     "text": [
      "{'C': 0.1}\n",
      "LinearSVC(C=0.1, class_weight=None, dual=False, fit_intercept=True,\n",
      "          intercept_scaling=1, loss='squared_hinge', max_iter=1000,\n",
      "          multi_class='ovr', penalty='l2', random_state=None, tol=0.0001,\n",
      "          verbose=0)\n"
     ]
    }
   ],
   "source": [
    "# hyperparameter tuning\n",
    "# https://stackoverflow.com/questions/24121018/sklearn-gridsearch-how-to-print-out-progress-during-the-execution\n",
    "# https://stackoverflow.com/questions/52670012/convergencewarning-liblinear-failed-to-converge-increase-the-number-of-iterati\n",
    "    \n",
    "# C and loss\n",
    "parameters_svm = {'C':[0.1, 0.2, 0.3 ,0.4, 0.5]}\n",
    "grid_svm = GridSearchCV(LinearSVC(dual=False), parameters_svm, scoring= 'accuracy', cv=3, refit = True, verbose = 10)\n",
    "\n",
    "#train a model\n",
    "grid_svm.fit(X_train, y_train)\n",
    "\n",
    "print(grid_svm.best_params_)\n",
    "print(grid_svm.best_estimator_)"
   ]
  },
  {
   "cell_type": "code",
   "execution_count": 10,
   "metadata": {},
   "outputs": [],
   "source": [
    "# Predicting the Test set results\n",
    "y_predictition = grid_svm.predict(X_test)"
   ]
  },
  {
   "cell_type": "code",
   "execution_count": 11,
   "metadata": {},
   "outputs": [
    {
     "name": "stdout",
     "output_type": "stream",
     "text": [
      "Confusion Matrix:\n",
      " [[1825    1    1 ...    0    0    0]\n",
      " [  21   28    0 ...    0    0    0]\n",
      " [ 138    0    0 ...    0    0    0]\n",
      " ...\n",
      " [   0    0    0 ...    0    0    0]\n",
      " [   3    0    0 ...    0    0    0]\n",
      " [   0    0    0 ...    0    0    0]] \n",
      "\n",
      "Accuracy: 0.5255609920701872\n",
      "Precision: 0.247388974339324\n",
      "Recall: 0.18189308628185377\n",
      "F1 score: 0.1889687027527809\n"
     ]
    },
    {
     "name": "stderr",
     "output_type": "stream",
     "text": [
      "C:\\ProgramData\\Anaconda3\\lib\\site-packages\\sklearn\\metrics\\classification.py:1437: UndefinedMetricWarning: Precision is ill-defined and being set to 0.0 in labels with no predicted samples.\n",
      "  'precision', 'predicted', average, warn_for)\n",
      "C:\\ProgramData\\Anaconda3\\lib\\site-packages\\sklearn\\metrics\\classification.py:1437: UndefinedMetricWarning: F-score is ill-defined and being set to 0.0 in labels with no predicted samples.\n",
      "  'precision', 'predicted', average, warn_for)\n"
     ]
    }
   ],
   "source": [
    "# Performance metrics\n",
    "recall = recall_score(y_test, y_predictition, average='macro')\n",
    "precision = precision_score(y_test, y_predictition, average='macro')\n",
    "f1score = f1_score(y_test, y_predictition, average='macro')\n",
    "accuracy = accuracy_score(y_test, y_predictition)\n",
    "\n",
    "print('Confusion Matrix:\\n',confusion_matrix(y_test, y_predictition),'\\n')\n",
    "print('Accuracy:', str(accuracy))\n",
    "print('Precision:', str(precision))\n",
    "print('Recall:', str(recall))\n",
    "print('F1 score:', str(f1score))"
   ]
  },
  {
   "cell_type": "code",
   "execution_count": 12,
   "metadata": {},
   "outputs": [],
   "source": [
    "# test\n",
    "test_data = test_df.iloc[:,0:100].values\n",
    "test_data_scaled = scaler.fit_transform(test_data)\n",
    "test_predictition = grid_svm.predict(test_data_scaled)"
   ]
  },
  {
   "cell_type": "code",
   "execution_count": 13,
   "metadata": {},
   "outputs": [],
   "source": [
    "test_df=test_df.rename(columns = {'index':'test_id'})\n",
    "test_df['label'] = definitions[test_predictition] # convert to original labels\n",
    "test_df.drop(train_df.iloc[:,0:100], inplace=True, axis=1)"
   ]
  },
  {
   "cell_type": "code",
   "execution_count": 14,
   "metadata": {
    "scrolled": true
   },
   "outputs": [
    {
     "data": {
      "text/html": [
       "<div>\n",
       "<style scoped>\n",
       "    .dataframe tbody tr th:only-of-type {\n",
       "        vertical-align: middle;\n",
       "    }\n",
       "\n",
       "    .dataframe tbody tr th {\n",
       "        vertical-align: top;\n",
       "    }\n",
       "\n",
       "    .dataframe thead th {\n",
       "        text-align: right;\n",
       "    }\n",
       "</style>\n",
       "<table border=\"1\" class=\"dataframe\">\n",
       "  <thead>\n",
       "    <tr style=\"text-align: right;\">\n",
       "      <th></th>\n",
       "      <th>test_id</th>\n",
       "      <th>label</th>\n",
       "    </tr>\n",
       "  </thead>\n",
       "  <tbody>\n",
       "    <tr>\n",
       "      <th>0</th>\n",
       "      <td>1</td>\n",
       "      <td>q-fin.EC</td>\n",
       "    </tr>\n",
       "    <tr>\n",
       "      <th>1</th>\n",
       "      <td>2</td>\n",
       "      <td>cs</td>\n",
       "    </tr>\n",
       "    <tr>\n",
       "      <th>2</th>\n",
       "      <td>3</td>\n",
       "      <td>cs</td>\n",
       "    </tr>\n",
       "    <tr>\n",
       "      <th>3</th>\n",
       "      <td>4</td>\n",
       "      <td>math.AG</td>\n",
       "    </tr>\n",
       "    <tr>\n",
       "      <th>4</th>\n",
       "      <td>5</td>\n",
       "      <td>physics.optics</td>\n",
       "    </tr>\n",
       "  </tbody>\n",
       "</table>\n",
       "</div>"
      ],
      "text/plain": [
       "   test_id           label\n",
       "0        1        q-fin.EC\n",
       "1        2              cs\n",
       "2        3              cs\n",
       "3        4         math.AG\n",
       "4        5  physics.optics"
      ]
     },
     "execution_count": 14,
     "metadata": {},
     "output_type": "execute_result"
    }
   ],
   "source": [
    "test_df.head()"
   ]
  },
  {
   "cell_type": "code",
   "execution_count": 15,
   "metadata": {},
   "outputs": [],
   "source": [
    "test_df.to_csv('./Predictions_SVM.csv', index = False)"
   ]
  }
 ],
 "metadata": {
  "kernelspec": {
   "display_name": "Python 3",
   "language": "python",
   "name": "python3"
  },
  "language_info": {
   "codemirror_mode": {
    "name": "ipython",
    "version": 3
   },
   "file_extension": ".py",
   "mimetype": "text/x-python",
   "name": "python",
   "nbconvert_exporter": "python",
   "pygments_lexer": "ipython3",
   "version": "3.7.4"
  }
 },
 "nbformat": 4,
 "nbformat_minor": 2
}
